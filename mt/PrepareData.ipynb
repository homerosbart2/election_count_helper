{
 "cells": [
  {
   "cell_type": "code",
   "execution_count": 1,
   "metadata": {},
   "outputs": [],
   "source": [
    "import os\n",
    "import cv2\n",
    "import pytesseract\n",
    "from pytesseract import Output\n",
    "import json\n",
    "from fuzzywuzzy import fuzz \n",
    "import numpy as np\n",
    "from sklearn.linear_model import LinearRegression\n",
    "\n",
    "import asyncio\n",
    "import requests\n",
    "from concurrent.futures import ThreadPoolExecutor\n",
    "import json\n",
    "import pandas as pd\n",
    "import os\n",
    "import sys"
   ]
  },
  {
   "cell_type": "markdown",
   "metadata": {},
   "source": [
    "### Getting args from command line"
   ]
  },
  {
   "cell_type": "code",
   "execution_count": 2,
   "metadata": {},
   "outputs": [],
   "source": [
    "# This is used when running as a script in a parallel cluster\n",
    "def GetArgs():\n",
    "    print('Number of arguments:', len(sys.argv), 'arguments.')\n",
    "    print('Argument List:', str(sys.argv))\n",
    "    os.chdir(sys.argv[1])\n",
    "    dirpath = os.getcwd()\n",
    "    print(\"current directory is : \" + dirpath)\n",
    "    start=int(sys.argv[2])\n",
    "    end=int(sys.argv[3])\n",
    "    return(start,end)"
   ]
  },
  {
   "cell_type": "markdown",
   "metadata": {},
   "source": [
    "### Open JSON datafile"
   ]
  },
  {
   "cell_type": "code",
   "execution_count": 3,
   "metadata": {},
   "outputs": [],
   "source": [
    "def AbrirDatosMesa(fname):\n",
    "    with open(fname) as json_file:  \n",
    "        data = json.load(json_file)\n",
    "    return data "
   ]
  },
  {
   "cell_type": "markdown",
   "metadata": {},
   "source": [
    "### Creates the adequate filename for mesa json file"
   ]
  },
  {
   "cell_type": "code",
   "execution_count": 4,
   "metadata": {},
   "outputs": [],
   "source": [
    "def GetDatosMesa(mesa,path=\"./data/\"):\n",
    "    data_name=\"mesa_\"+'{0:06d}'.format(mesa)+'.json'\n",
    "    data=AbrirDatosMesa(path+data_name)\n",
    "    return data"
   ]
  },
  {
   "cell_type": "markdown",
   "metadata": {},
   "source": [
    "### Use Google's Tesseract OCR engine to extract readable text"
   ]
  },
  {
   "cell_type": "code",
   "execution_count": 5,
   "metadata": {},
   "outputs": [],
   "source": [
    "def ExtractData(img):\n",
    "    d = pytesseract.image_to_data(img, output_type=Output.DICT, config=\"-c tessedit_char_whitelist=ABCDEFGHIJKLMNOPQRSTUVWXYZabcdefghijklmnopqrstuvwxyz\")\n",
    "    return d"
   ]
  },
  {
   "cell_type": "markdown",
   "metadata": {},
   "source": [
    "### Extract data from JSON file "
   ]
  },
  {
   "cell_type": "code",
   "execution_count": 6,
   "metadata": {},
   "outputs": [],
   "source": [
    "def ExtractDataActa(acta,data):\n",
    "    b=data['TE'][acta-1]['VOTOSTE'+str(acta-1)]\n",
    "    masked_words=[] #nombres de partidos en la primer columna\n",
    "    wlenbycode=[] #largo del nombre de estos partidos (en acta)\n",
    "    extra_masks=[] #partidos en la segunda columna del acta\n",
    "    maxA=24-1\n",
    "    for i,val in enumerate(b):\n",
    "        if i>maxA:\n",
    "            extra_masks+=val['D'].split()\n",
    "        else:\n",
    "            wlenbycode.append(len(val['D']))\n",
    "            val['D']=''.join([i for i in val['D'] if i.isalpha()])\n",
    "            masked_words.append(val['D'])\n",
    "    return masked_words,wlenbycode,extra_masks"
   ]
  },
  {
   "cell_type": "markdown",
   "metadata": {},
   "source": [
    "### Fuzzy (non strict) matching"
   ]
  },
  {
   "cell_type": "code",
   "execution_count": 7,
   "metadata": {},
   "outputs": [],
   "source": [
    "def FuzzyMatch(word,matching_words):\n",
    "    for mw in matching_words:                     \n",
    "        if fuzz.ratio(word, mw) > 95:\n",
    "            return True,mw\n",
    "    return False,-1"
   ]
  },
  {
   "cell_type": "markdown",
   "metadata": {},
   "source": [
    "### Mask information in acta to leak the least information"
   ]
  },
  {
   "cell_type": "code",
   "execution_count": 8,
   "metadata": {},
   "outputs": [],
   "source": [
    "def MaskWords(img,d,masked_words,wlenbycode,extra_masks):\n",
    "    emasks=['TOTAL','VOTOS','PAPELETAS','RECIBIDAS','SIGLAS','VALIDOS','NULOS','BLANCO','VALIDAMENTE','EMITIDOS','OBSERVACIONES','CANTIDAD','AGREGAN']\n",
    "    emasks+=extra_masks\n",
    "    party_codes={}\n",
    "    p1d=(450, 100)\n",
    "    p2d=(1000, 100)\n",
    "    \n",
    "    bar=(750,0)\n",
    "    barWH=(200,130)\n",
    "    color1=(0, 255, 0)\n",
    "    color2=(255,0,0)\n",
    "    color3=(0,0,0)\n",
    "    cv2.putText(img, \"A\", (p1d[0], p1d[1]),cv2.FONT_HERSHEY_SIMPLEX, 4, (255, 0, 0), 3)\n",
    "    cv2.putText(img, \"{} rows\".format(len(masked_words)), (10, p1d[1]),cv2.FONT_HERSHEY_SIMPLEX, 1.5, (255, 0, 0), 3)\n",
    "    #cv2.putText(img, \"B\", (p2d[0], p2d[1]),cv2.FONT_HERSHEY_SIMPLEX, 4, (255, 0, 0), 3)\n",
    "    cv2.rectangle(img, (bar[0],bar[1]), (bar[0] + barWH[0], bar[1] + barWH[1]), color3, -1)\n",
    "    maxX=p1d[0]\n",
    "\n",
    "    n_boxes = len(d['level'])\n",
    "    for i in range(n_boxes):\n",
    "            maskw=0\n",
    "            if len(d['text'][i])>1:# and d['left'][i]<maxX:\n",
    "                d['text'][i]=d['text'][i].replace('0','O')\n",
    "                d['text'][i]=''.join([i for i in d['text'][i] if i.isalpha()])\n",
    "                d['text'][i]=d['text'][i].upper()\n",
    "                #if text is directly found in the list\n",
    "                if d['text'][i] in masked_words:\n",
    "                    maskw=1\n",
    "                    color=color1\n",
    "                    code=masked_words.index(d['text'][i])\n",
    "                    if code in party_codes:\n",
    "                            if(d['left'][i]<party_codes[code][0]):\n",
    "                                party_codes[code]=(d['left'][i], d['top'][i], d['width'][i], d['height'][i])\n",
    "                    else:\n",
    "                        party_codes[code]=(d['left'][i], d['top'][i], d['width'][i], d['height'][i])    \n",
    "                else: #if not do fuzzy matching\n",
    "                    match=FuzzyMatch(d['text'][i],masked_words)\n",
    "                    if match[0]:\n",
    "                        maskw=2\n",
    "                        color=color2\n",
    "                        mw=match[1]\n",
    "                        code=masked_words.index(mw)\n",
    "                        if code in party_codes:\n",
    "                            if(d['left'][i]<party_codes[code][0]):\n",
    "                                party_codes[code]=(d['left'][i], d['top'][i], d['width'][i], d['height'][i])\n",
    "                        else:\n",
    "                            party_codes[code]=(d['left'][i], d['top'][i], d['width'][i], d['height'][i])\n",
    "                    match=FuzzyMatch(d['text'][i],emasks)\n",
    "                    if match[0]:\n",
    "                        mw=match[1]\n",
    "                        maskw=3\n",
    "                        color=color3\n",
    "\n",
    "            if maskw:                \n",
    "                (x, y, w, h) = (d['left'][i], d['top'][i], d['width'][i], d['height'][i])\n",
    "                if maskw==2 or maskw==3:\n",
    "                    w=len(mw)*14\n",
    "                cv2.rectangle(img, (x, y), (x + w, y + h), color, -1)\n",
    "\n",
    "    add_extra=False    \n",
    "    for code in range(len(masked_words)):\n",
    "        if code not in party_codes:\n",
    "            add_extra=True\n",
    "        #else:\n",
    "        #    print(all_codes.index(code),\"CODE \",code,\"VALUE\",party_codes[code])\n",
    "    if add_extra and len(party_codes)>1:\n",
    "        \n",
    "        xc=[]\n",
    "        c=[]\n",
    "        yc=[]\n",
    "        for k,val in party_codes.items():\n",
    "            c.append(k)\n",
    "            yc.append(val[1])\n",
    "            xc.append(val[0])\n",
    "        c=np.array(c).reshape(-1, 1)\n",
    "        yc=np.array(yc).reshape(-1, 1)\n",
    "        xc=np.array(xc).reshape(-1, 1)\n",
    "        regYC = LinearRegression().fit(c,yc)\n",
    "        regXC = LinearRegression().fit(c,xc)\n",
    "        for x in range(len(masked_words)):           \n",
    "            #if code not in party_codes:\n",
    "                xa=np.array(x).reshape(-1, 1)\n",
    "                yc=regYC.predict(xa)\n",
    "                yc=int(np.asscalar(yc))\n",
    "                xc=regXC.predict(xa)\n",
    "                xc=int(np.asscalar(xc))\n",
    "                \n",
    "                covl=wlenbycode[x]*14\n",
    "                \n",
    "                cv2.rectangle(img, (0, yc), (xc+covl,yc+18), color1, -1)\n",
    "          \n",
    "                \n",
    "                cv2.putText(img, 'A'+str(x+1), (xc, yc+20),cv2.FONT_HERSHEY_SIMPLEX, 1.2, (255, 0, 0), 3)\n",
    "            #else:\n",
    "            #    (x, y, w, h) = party_codes[code]\n",
    "            #    xc=party_codes[code][0]\n",
    "            #    yc=party_codes[code][1]\n",
    "            #    cv2.putText(img2, \"A\"+str(x), (xc, yc+20),cv2.FONT_HERSHEY_SIMPLEX, 1.5, (255, 0, 0), 3)\n",
    "    return img"
   ]
  },
  {
   "cell_type": "markdown",
   "metadata": {},
   "source": [
    "### Helper function to draw boxes in a tesseract OCR dictionary"
   ]
  },
  {
   "cell_type": "code",
   "execution_count": 9,
   "metadata": {},
   "outputs": [],
   "source": [
    "def DrawBoxes(img,d):\n",
    "    img2=img.copy()\n",
    "    n_boxes = len(d['level'])\n",
    "    for i in range(n_boxes):\n",
    "            (x, y, w, h) = (d['left'][i], d['top'][i], d['width'][i], d['height'][i])\n",
    "            cv2.rectangle(img2, (x, y), (x + w, y + h), (0, 255, 0), 2)\n",
    "    return img2"
   ]
  },
  {
   "cell_type": "markdown",
   "metadata": {},
   "source": [
    "### Get interest area based on heuritstic anchor words"
   ]
  },
  {
   "cell_type": "code",
   "execution_count": 10,
   "metadata": {},
   "outputs": [],
   "source": [
    "def GetBoundingBox(d,acta,masked_words):\n",
    "    first_w='PAPELETAS'\n",
    "    last_w='VALIDAMENTE'\n",
    "    last_pad=(0,1200)\n",
    "    first_pad=(0,0)\n",
    "    if acta == 1:\n",
    "        p1d=(0, 600)\n",
    "    else:\n",
    "        p1d=(0, 320)    \n",
    "    p2d=(940, 2100)\n",
    "    #p2d=(1500, 2100)\n",
    "    expw=p2d[0]-p1d[0]\n",
    "    exph=p2d[1]-p1d[1]\n",
    "    por=0.9\n",
    "    porEr=0.7\n",
    "    \n",
    "    \n",
    "    problem=False\n",
    "    \n",
    "    idx_f=GetIndex(d,first_w,True)\n",
    "    idx_l=GetIndex(d,last_w,False)\n",
    "    \n",
    "    if idx_f==-1 and idx_l==-1:\n",
    "        for i in range(len(d['text'])):\n",
    "            if FuzzyMatch(d['text'][i],masked_words)[0]:\n",
    "                break\n",
    "        else:\n",
    "            problem=True \n",
    "    if idx_f!=-1:\n",
    "        #p1= (d['left'][idx_f]+first_pad[0], d['top'][idx_f]+first_pad[1])\n",
    "        p1= (0, d['top'][idx_f]+first_pad[1])\n",
    "    else:    \n",
    "        p1= p1d#default value\n",
    "        \n",
    "    if idx_l!=-1:\n",
    "        p2=(d['left'][idx_l]+d['width'][idx_l]+last_pad[0], d['top'][idx_l]+d['height'][idx_l]+last_pad[1])\n",
    "    else:\n",
    "        p2=p2d #default value\n",
    "    \n",
    "    if p2[0]-p1[0]<expw*por or p2[1]-p1[1]<exph*por:\n",
    "        print(\"EXPANDING AREA\")\n",
    "        #problem=True\n",
    "        p2=p2d\n",
    "        p1= p1d\n",
    "        if p2[0]-p1[0]<expw*porEr or p2[1]-p1[1]<exph*porEr:\n",
    "            print(\"AREA TOO SMALL\")\n",
    "            problem=True\n",
    "    \n",
    "    return (p1,p2,problem)"
   ]
  },
  {
   "cell_type": "markdown",
   "metadata": {},
   "source": [
    "### Helper function to find the index of a word in a list"
   ]
  },
  {
   "cell_type": "code",
   "execution_count": 11,
   "metadata": {},
   "outputs": [],
   "source": [
    "def GetIndex(d,word,first=True):\n",
    "    if word in d['text']:\n",
    "        if first:\n",
    "            return d['text'].index(word)\n",
    "        else:\n",
    "            return len(d['text']) - 1 - d['text'][::-1].index(word)\n",
    "    else:\n",
    "        return -1"
   ]
  },
  {
   "cell_type": "markdown",
   "metadata": {},
   "source": [
    "### Processs every Acta for each Mesa"
   ]
  },
  {
   "cell_type": "code",
   "execution_count": 14,
   "metadata": {},
   "outputs": [],
   "source": [
    "def ProcessFile(mesa):\n",
    "    print(\"Mesa\",mesa)\n",
    "    path=\"data/\"\n",
    "    out_path='./data_mturk_pres/'\n",
    "    mfname=\"mesa_\"+'{0:06d}'.format(mesa)+'.json'\n",
    "    \n",
    "    exists = os.path.isfile(path+mfname)\n",
    "    if not exists:\n",
    "        print(\"Datos \",mfname,\" NO EXISTE\")\n",
    "        return (True,-1)\n",
    "    \n",
    "    \n",
    "    mdata=GetDatosMesa(mesa)\n",
    "    for acta in range(1,6):\n",
    "        fname='{0:06d}'.format(mesa*10+acta)+'.jpg'\n",
    "        fname2='problem_{0:06d}'.format(mesa*10+acta)+'.jpg'\n",
    "\n",
    "        p1=(380,720)\n",
    "        p2=(600,1950)\n",
    "\n",
    "        exists = os.path.isfile(path+fname)\n",
    "        if not exists:\n",
    "            print(\"ACTA \",fname,\" NO EXISTE\")\n",
    "            continue\n",
    "        \n",
    "        masked_words,wlenbycode,extra_masks=ExtractDataActa(acta,mdata)\n",
    "\n",
    "        image = cv2.imread(path+fname) \n",
    "\n",
    "        #Extract data for bounding box\n",
    "        d=ExtractData(image)\n",
    "\n",
    "        (p1,p2,problem)=GetBoundingBox(d,acta,masked_words)\n",
    "\n",
    "\n",
    "        if problem:\n",
    "            #Check if it needs to be rotated\n",
    "            # get image height, width\n",
    "            (h, w) = image.shape[:2]\n",
    "            # calculate the center of the image\n",
    "            center = (w / 2, h / 2)\n",
    "\n",
    "            angle180 = 180\n",
    "\n",
    "            scale = 1.0\n",
    "\n",
    "            # 180 degrees\n",
    "            M = cv2.getRotationMatrix2D(center, angle180, scale)\n",
    "            rotated180 = cv2.warpAffine(image.copy(), M, (w, h))\n",
    "\n",
    "            d=ExtractData(rotated180)        \n",
    "            (p1n,p2n,problem)=GetBoundingBox(d,acta,masked_words)\n",
    "\n",
    "            if problem:\n",
    "                cv2.imwrite(\"./problems/\"+fname2,image)\n",
    "            else:\n",
    "                p1=p1n\n",
    "                p2=p2n\n",
    "                print(\"ROTATION PROBLEM \",fname2)\n",
    "                image=rotated180\n",
    "                cv2.imwrite(\"./problems/FIXED_\"+fname2,image)\n",
    "\n",
    "        #image2=DrawBoxes(image,d)\n",
    "\n",
    "        crop_img = image[p1[1]:p2[1], p1[0]:p2[0]]\n",
    "\n",
    "        #Extract data for masking\n",
    "        d=ExtractData(crop_img)\n",
    "        \n",
    "        #print(extra_masks)\n",
    "        crop_img=MaskWords(crop_img,d,masked_words,wlenbycode,extra_masks)\n",
    "\n",
    "        cv2.imwrite(out_path+fname,crop_img)\n",
    "        #cv2.imwrite(out_path+fname2,image2)\n",
    "    return"
   ]
  },
  {
   "cell_type": "markdown",
   "metadata": {},
   "source": [
    "### Task scheduler"
   ]
  },
  {
   "cell_type": "code",
   "execution_count": null,
   "metadata": {},
   "outputs": [],
   "source": [
    "async def get_data_asynchronous(path=\"data/\",startFromZero=True):\n",
    "    \n",
    "    mesas=[]\n",
    "    if startFromZero:\n",
    "        mesas=range(start,end+1)\n",
    "    else:\n",
    "        df=pd.read_csv('data/results.csv')\n",
    "        for index, row in df.iterrows():\n",
    "            if row['datos']==False or row['actas']<5:\n",
    "                mesas.append(int(row['mesa']))\n",
    "    \n",
    "    with ThreadPoolExecutor(max_workers=10) as executor:\n",
    "        loop = asyncio.get_event_loop()\n",
    "        tasks = [\n",
    "                loop.run_in_executor(\n",
    "                    executor,\n",
    "                    ProcessFile,\n",
    "                    mesa\n",
    "                )\n",
    "            for mesa in mesas\n",
    "        ]\n",
    "        res=await asyncio.gather(*tasks)"
   ]
  },
  {
   "cell_type": "markdown",
   "metadata": {},
   "source": [
    "### Run"
   ]
  },
  {
   "cell_type": "code",
   "execution_count": null,
   "metadata": {},
   "outputs": [],
   "source": [
    "start,end=GetArgs()\n",
    "loop = asyncio.get_event_loop()\n",
    "future = asyncio.ensure_future(get_data_asynchronous())\n",
    "loop.run_until_complete(future)"
   ]
  },
  {
   "cell_type": "code",
   "execution_count": null,
   "metadata": {},
   "outputs": [],
   "source": []
  }
 ],
 "metadata": {
  "kernelspec": {
   "display_name": "Python 3",
   "language": "python",
   "name": "python3"
  },
  "language_info": {
   "codemirror_mode": {
    "name": "ipython",
    "version": 3
   },
   "file_extension": ".py",
   "mimetype": "text/x-python",
   "name": "python",
   "nbconvert_exporter": "python",
   "pygments_lexer": "ipython3",
   "version": "3.6.7"
  }
 },
 "nbformat": 4,
 "nbformat_minor": 2
}
